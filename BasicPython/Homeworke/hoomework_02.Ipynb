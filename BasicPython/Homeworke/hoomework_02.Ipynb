{
 "cells": [
  {
   "cell_type": "code",
   "execution_count": 1,
   "metadata": {},
   "outputs": [
    {
     "name": "stdout",
     "output_type": "stream",
     "text": [
      "Weight = 80 | Height = 185 | Your BMI is 23.375\n"
     ]
    }
   ],
   "source": [
    "#ธนกฤต สมสุข 6412732104\n",
    "weight,height = input('Enter your data ：').split()\n",
    "bmi = int(weight) / ((int(height)/100)**2)\n",
    "print(f\"Weight = {weight} | Height = {height} | Your BMI is {bmi:.3f}\")"
   ]
  }
 ],
 "metadata": {
  "interpreter": {
   "hash": "93d204abf009aee38cb5e6d4d2d3eb12f9203a395bdfe26edee03b38a33ebe24"
  },
  "kernelspec": {
   "display_name": "Python 3.8.8 64-bit ('base': conda)",
   "language": "python",
   "name": "python3"
  },
  "language_info": {
   "codemirror_mode": {
    "name": "ipython",
    "version": 3
   },
   "file_extension": ".py",
   "mimetype": "text/x-python",
   "name": "python",
   "nbconvert_exporter": "python",
   "pygments_lexer": "ipython3",
   "version": "3.8.8"
  },
  "orig_nbformat": 4
 },
 "nbformat": 4,
 "nbformat_minor": 2
}
